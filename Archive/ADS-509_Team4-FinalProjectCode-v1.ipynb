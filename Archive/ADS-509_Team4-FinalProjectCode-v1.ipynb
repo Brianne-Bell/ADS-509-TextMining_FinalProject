{
 "cells": [
  {
   "cell_type": "markdown",
   "id": "17b7fc61",
   "metadata": {},
   "source": [
    "# Appendix\n",
    "## ADS 509: Final Project Code\n",
    "## Team 4\n",
    "### Zachariah Freitas and Brianne Bell\n",
    " "
   ]
  },
  {
   "cell_type": "code",
   "execution_count": 10,
   "id": "f0877ded",
   "metadata": {},
   "outputs": [],
   "source": [
    "# pip install arxiv\n"
   ]
  },
  {
   "cell_type": "code",
   "execution_count": 34,
   "id": "5cb3f657",
   "metadata": {},
   "outputs": [],
   "source": [
    "# Loading necessary libraries\n",
    "import pandas as pd\n",
    "import numpy as np\n",
    "import os\n",
    "import re\n",
    "import random\n",
    "import time\n",
    "import datetime\n",
    "\n",
    "import nltk\n",
    "from collections import Counter, defaultdict\n",
    "from nltk.corpus import stopwords\n",
    "from string import punctuation\n",
    "from tqdm import tqdm\n",
    "import sqlite3\n",
    "\n",
    "# from https://github.com/soumik12345/multi-label-text-classification/blob/master/arxiv_scrape.ipynb\n",
    "import arxiv\n"
   ]
  },
  {
   "cell_type": "raw",
   "id": "c0ee16de",
   "metadata": {},
   "source": [
    "The guide we are using used these keywords for multiclass classification:\n",
    "query_keywords = [\n",
    "    \"\\\"image segmentation\\\"\",\n",
    "    \"\\\"self-supervised learning\\\"\",\n",
    "    \"\\\"representation learning\\\"\",\n",
    "    \"\\\"image generation\\\"\",\n",
    "    \"\\\"object detection\\\"\",\n",
    "    \"\\\"transfer learning\\\"\",\n",
    "    \"\\\"transformers\\\"\",\n",
    "    \"\\\"adversarial training\",\n",
    "    \"\\\"generative adversarial networks\\\"\",\n",
    "    \"\\\"model compressions\\\"\",\n",
    "    \"\\\"image segmentation\\\"\",\n",
    "    \"\\\"few-shot learning\\\"\",\n",
    "    \"\\\"natural language\\\"\",\n",
    "    \"\\\"graph\\\"\",\n",
    "    \"\\\"colorization\\\"\",\n",
    "    \"\\\"depth estimation\\\"\",\n",
    "    \"\\\"point cloud\\\"\",\n",
    "    \"\\\"structured data\\\"\",\n",
    "    \"\\\"optical flow\\\"\",\n",
    "    \"\\\"reinforcement learning\\\"\",\n",
    "    \"\\\"super resolution\\\"\",\n",
    "    \"\\\"attention\\\"\",\n",
    "    \"\\\"tabular\\\"\",\n",
    "    \"\\\"unsupervised learning\\\"\",\n",
    "    \"\\\"semi-supervised learning\\\"\",\n",
    "    \"\\\"explainable\\\"\",\n",
    "    \"\\\"radiance field\\\"\",\n",
    "    \"\\\"decision tree\\\"\",\n",
    "    \"\\\"time series\\\"\",\n",
    "    \"\\\"molecule\\\"\",\n",
    "    \"\\\"physics\\\"\",\n",
    "    \"\\\"graphics\\\"\",\n",
    "    \"\\\"ray tracing\\\"\",\n",
    "    \"\\\"optical flow\\\"\",\n",
    "    \"\\\"photogrametry\\\"\",\n",
    "]\n",
    "Thinking this is kind of an extensive list for a 2 week project so taking only some or adding some"
   ]
  },
  {
   "cell_type": "code",
   "execution_count": 37,
   "id": "d787a25a",
   "metadata": {},
   "outputs": [],
   "source": [
    "# doing similar set up with setting up keywords to focus on\n",
    "query_keywords = [\n",
    "    \"\\\"representation learning\\\"\",\n",
    "    \"\\\"image generation\\\"\",\n",
    "    \"\\\"object detection\\\"\",\n",
    "    \"\\\"transformers\\\"\",\n",
    "    \"\\\"image segmentation\\\"\",\n",
    "    \"\\\"natural language\\\"\",\n",
    "    \"\\\"graph\\\"\",\n",
    "    \"\\\"colorization\\\"\",\n",
    "    \"\\\"depth estimation\\\"\",\n",
    "    \"\\\"point cloud\\\"\",\n",
    "    \"\\\"structured data\\\"\",\n",
    "    \"\\\"reinforcement learning\\\"\",\n",
    "    \"\\\"attention\\\"\",\n",
    "    \"\\\"tabular\\\"\",\n",
    "    \"\\\"unsupervised learning\\\"\",\n",
    "    \"\\\"semi-supervised learning\\\"\",\n",
    "    \"\\\"explainable\\\"\",\n",
    "    \"\\\"time series\\\"\",\n",
    "    \"\\\"molecule\\\"\",\n",
    "    \"\\\"physics\\\"\",\n",
    "    \"\\\"graphics\\\"\"\n",
    "]"
   ]
  },
  {
   "cell_type": "code",
   "execution_count": 35,
   "id": "6aeeed92",
   "metadata": {},
   "outputs": [],
   "source": [
    "# https://github.com/soumik12345/multi-label-text-classification/blob/master/arxiv_scrape.ipynb\n",
    "client = arxiv.Client(num_retries=20, page_size=500)\n",
    "\n",
    "def query_with_keywords(query):\n",
    "    search = arxiv.Search(\n",
    "        query=query,\n",
    "        max_results=20000,\n",
    "        sort_by=arxiv.SortCriterion.LastUpdatedDate\n",
    "    )\n",
    "    terms = []\n",
    "    titles = []\n",
    "    abstracts = []\n",
    "    for res in tqdm(client.results(search), desc=query):\n",
    "        if res.primary_category in [\"cs.CV\", \"stat.ML\", \"cs.LG\"]:\n",
    "            terms.append(res.categories)\n",
    "            titles.append(res.title)\n",
    "            abstracts.append(res.summary)\n",
    "    return terms, titles, abstracts"
   ]
  },
  {
   "cell_type": "code",
   "execution_count": 23,
   "id": "a8c89c71",
   "metadata": {},
   "outputs": [],
   "source": [
    "# setting up save file\n",
    "if not os.path.isdir(\"arxiv_data\") : \n",
    "    os.mkdir(\"arxiv_data\")\n"
   ]
  },
  {
   "cell_type": "code",
   "execution_count": 38,
   "id": "383f5753",
   "metadata": {},
   "outputs": [
    {
     "name": "stderr",
     "output_type": "stream",
     "text": [
      "\"representation learning\": 6118it [01:56, 52.62it/s]\n",
      "\"image generation\": 1978it [00:43, 45.54it/s]\n",
      "\"object detection\": 6536it [02:37, 41.59it/s]\n",
      "\"transformers\": 20000it [06:37, 50.38it/s]\n",
      "\"image segmentation\": 2890it [00:45, 63.13it/s]\n",
      "\"natural language\": 13021it [03:50, 56.38it/s]\n",
      "\"graph\": 20000it [06:26, 51.79it/s]\n",
      "\"colorization\": 20000it [06:09, 54.08it/s]\n",
      "\"depth estimation\": 1218it [00:24, 49.11it/s]\n",
      "\"point cloud\": 4308it [01:15, 56.82it/s]\n",
      "\"structured data\": 1915it [00:31, 60.03it/s]\n",
      "\"reinforcement learning\": 16211it [05:30, 49.04it/s]\n",
      "\"attention\": 20000it [06:38, 50.21it/s]\n",
      "\"tabular\": 1382it [00:23, 59.73it/s]\n",
      "\"unsupervised learning\": 2763it [00:51, 53.37it/s]\n",
      "\"semi-supervised learning\": 0it [00:03, ?it/s]\n",
      "\"explainable\": 20000it [07:22, 45.20it/s]\n",
      "\"time series\": 15302it [05:16, 48.32it/s]\n",
      "\"molecule\": 20000it [06:08, 54.31it/s]\n",
      "\"physics\": 20000it [08:20, 39.93it/s]\n",
      "\"graphics\": 15861it [04:16, 61.95it/s]"
     ]
    },
    {
     "name": "stdout",
     "output_type": "stream",
     "text": [
      "1:16:10.736303\n"
     ]
    },
    {
     "name": "stderr",
     "output_type": "stream",
     "text": [
      "\n"
     ]
    }
   ],
   "source": [
    "# setting up for pull\n",
    "all_titles = []\n",
    "all_summaries = []\n",
    "all_terms = []\n",
    "\n",
    "# timing:\n",
    "start_time = datetime.datetime.now()\n",
    "\n",
    "# pulling\n",
    "for query in query_keywords:\n",
    "    terms, titles, abstracts = query_with_keywords(query)\n",
    "    all_titles.extend(titles)\n",
    "    all_summaries.extend(abstracts)\n",
    "    all_terms.extend(terms)\n",
    "    \n",
    "# seeing how long ^that took:    \n",
    "end_time = datetime.datetime.now()\n",
    "print(end_time - start_time)"
   ]
  },
  {
   "cell_type": "code",
   "execution_count": 39,
   "id": "3afdf1f1",
   "metadata": {},
   "outputs": [
    {
     "data": {
      "text/html": [
       "<div>\n",
       "<style scoped>\n",
       "    .dataframe tbody tr th:only-of-type {\n",
       "        vertical-align: middle;\n",
       "    }\n",
       "\n",
       "    .dataframe tbody tr th {\n",
       "        vertical-align: top;\n",
       "    }\n",
       "\n",
       "    .dataframe thead th {\n",
       "        text-align: right;\n",
       "    }\n",
       "</style>\n",
       "<table border=\"1\" class=\"dataframe\">\n",
       "  <thead>\n",
       "    <tr style=\"text-align: right;\">\n",
       "      <th></th>\n",
       "      <th>titles</th>\n",
       "      <th>abstracts</th>\n",
       "      <th>terms</th>\n",
       "    </tr>\n",
       "  </thead>\n",
       "  <tbody>\n",
       "    <tr>\n",
       "      <th>0</th>\n",
       "      <td>Reinforcement Learning from Multiple Sensors v...</td>\n",
       "      <td>In many scenarios, observations from more than...</td>\n",
       "      <td>[cs.LG]</td>\n",
       "    </tr>\n",
       "    <tr>\n",
       "      <th>1</th>\n",
       "      <td>Interventional Causal Representation Learning</td>\n",
       "      <td>Causal representation learning seeks to extrac...</td>\n",
       "      <td>[stat.ML, cs.LG]</td>\n",
       "    </tr>\n",
       "    <tr>\n",
       "      <th>2</th>\n",
       "      <td>Self-Supervised Node Representation Learning v...</td>\n",
       "      <td>Self-supervised node representation learning a...</td>\n",
       "      <td>[cs.LG]</td>\n",
       "    </tr>\n",
       "    <tr>\n",
       "      <th>3</th>\n",
       "      <td>Out-of-Distribution Representation Learning fo...</td>\n",
       "      <td>Time series classification is an important pro...</td>\n",
       "      <td>[cs.LG, cs.AI]</td>\n",
       "    </tr>\n",
       "    <tr>\n",
       "      <th>4</th>\n",
       "      <td>Trading Information between Latents in Hierarc...</td>\n",
       "      <td>Variational Autoencoders (VAEs) were originall...</td>\n",
       "      <td>[stat.ML, cs.CV, cs.IT, cs.LG, math.IT]</td>\n",
       "    </tr>\n",
       "  </tbody>\n",
       "</table>\n",
       "</div>"
      ],
      "text/plain": [
       "                                              titles  \\\n",
       "0  Reinforcement Learning from Multiple Sensors v...   \n",
       "1      Interventional Causal Representation Learning   \n",
       "2  Self-Supervised Node Representation Learning v...   \n",
       "3  Out-of-Distribution Representation Learning fo...   \n",
       "4  Trading Information between Latents in Hierarc...   \n",
       "\n",
       "                                           abstracts  \\\n",
       "0  In many scenarios, observations from more than...   \n",
       "1  Causal representation learning seeks to extrac...   \n",
       "2  Self-supervised node representation learning a...   \n",
       "3  Time series classification is an important pro...   \n",
       "4  Variational Autoencoders (VAEs) were originall...   \n",
       "\n",
       "                                     terms  \n",
       "0                                  [cs.LG]  \n",
       "1                         [stat.ML, cs.LG]  \n",
       "2                                  [cs.LG]  \n",
       "3                           [cs.LG, cs.AI]  \n",
       "4  [stat.ML, cs.CV, cs.IT, cs.LG, math.IT]  "
      ]
     },
     "execution_count": 39,
     "metadata": {},
     "output_type": "execute_result"
    }
   ],
   "source": [
    "raw_data = pd.DataFrame({\n",
    "    'titles': all_titles,\n",
    "    'abstracts': all_summaries,\n",
    "    'terms': all_terms\n",
    "})\n",
    "\n",
    "raw_data.head()"
   ]
  },
  {
   "cell_type": "code",
   "execution_count": 40,
   "id": "a2c59ca9",
   "metadata": {},
   "outputs": [
    {
     "data": {
      "text/plain": [
       "(64573, 3)"
      ]
     },
     "execution_count": 40,
     "metadata": {},
     "output_type": "execute_result"
    }
   ],
   "source": [
    "raw_data.shape"
   ]
  },
  {
   "cell_type": "code",
   "execution_count": 42,
   "id": "470c61d4",
   "metadata": {},
   "outputs": [],
   "source": [
    "# saving to csv file because pulling data takes a long while\n",
    "raw_data.to_csv('arxiv_data.csv', index=False)\n",
    "    # well I didn't get it to the file folder but it did write."
   ]
  }
 ],
 "metadata": {
  "kernelspec": {
   "display_name": "Python 3",
   "language": "python",
   "name": "python3"
  },
  "language_info": {
   "codemirror_mode": {
    "name": "ipython",
    "version": 3
   },
   "file_extension": ".py",
   "mimetype": "text/x-python",
   "name": "python",
   "nbconvert_exporter": "python",
   "pygments_lexer": "ipython3",
   "version": "3.8.8"
  }
 },
 "nbformat": 4,
 "nbformat_minor": 5
}
